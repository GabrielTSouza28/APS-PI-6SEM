{
 "cells": [
  {
   "cell_type": "code",
   "execution_count": 2,
   "metadata": {},
   "outputs": [],
   "source": [
    "import os\n",
    "import numpy as np\n",
    "from pathlib import Path\n",
    "from tensorflow.keras.preprocessing.image import ImageDataGenerator\n",
    "from tensorflow.keras.models import Sequential\n",
    "from tensorflow.keras.layers import Conv2D, MaxPooling2D, Flatten, Dense\n",
    "import os\n",
    "import cv2\n",
    "import numpy as np\n",
    "from sklearn.model_selection import train_test_split\n",
    "\n",
    "# Diretório onde estão as imagens de todas as vogais\n",
    "dataset_path = Path(os.path.join('C:',os.sep, 'Users', 'Gabriel', 'Desktop', 'FACUL 6ª SEM', 'APS-PI-6SEM', 'dataset', 'v20220930_partial'))"
   ]
  },
  {
   "cell_type": "code",
   "execution_count": 3,
   "metadata": {},
   "outputs": [],
   "source": [
    "# Lista para armazenar as imagens e seus rótulos correspondentes ('i' ou outras vogais)\n",
    "images = []\n",
    "labels = []"
   ]
  },
  {
   "cell_type": "code",
   "execution_count": 4,
   "metadata": {},
   "outputs": [],
   "source": [
    "# Lista de letras que serão consideradas ('i' para 'I' e 'i', e outras vogais)\n",
    "target_letters = ['a_l', 'A_u', 'e_l', 'E_u', 'i_l', 'I_u', 'o_l', 'O_u', 'u_l', 'U_u']"
   ]
  },
  {
   "cell_type": "code",
   "execution_count": 5,
   "metadata": {},
   "outputs": [],
   "source": [
    "# Percorrer o diretório de cada letra e carregar as imagens\n",
    "from matplotlib.image import imread\n",
    "\n",
    "\n",
    "for letter in target_letters:\n",
    "    letter_path = os.path.join(dataset_path, letter)\n",
    "    for image_file in os.listdir(letter_path):\n",
    "        image_path = os.path.join(letter_path, image_file)\n",
    "        for imagem in os.listdir(image_path):\n",
    "            imagem_final = os.path.join(image_path, imagem)\n",
    "            image = imread(imagem_final)\n",
    "            image = cv2.resize(image, (64, 64))  # Redimensionar para um tamanho específico\n",
    "            images.append(image)\n",
    "            labels.append(1 if (letter.startswith('i') or letter.startswith('I'))  else 0)  # Rotular 'i' como 1 e outras vogais como 0"
   ]
  },
  {
   "cell_type": "code",
   "execution_count": 6,
   "metadata": {},
   "outputs": [],
   "source": [
    "#print(images)\n",
    "#print(labels)\n",
    "# Convertendo listas em arrays numpy\n",
    "images = np.array(images)\n",
    "labels = np.array(labels)"
   ]
  },
  {
   "cell_type": "code",
   "execution_count": 7,
   "metadata": {},
   "outputs": [],
   "source": [
    "# Dividir os dados em conjunto de treino e teste (80% treino, 20% teste)\n",
    "X_train, X_test, y_train, y_test = train_test_split(images, labels, test_size=0.2, random_state=42)\n"
   ]
  },
  {
   "cell_type": "code",
   "execution_count": 113,
   "metadata": {},
   "outputs": [],
   "source": [
    "#Normalização dos valores de pixel para o intervalo [0, 1]\n",
    "#X_train = X_train.astype('float32') / 255.0\n",
    "#X_test = X_test.astype('float32') / 255.0\n"
   ]
  },
  {
   "cell_type": "code",
   "execution_count": 8,
   "metadata": {},
   "outputs": [
    {
     "name": "stdout",
     "output_type": "stream",
     "text": [
      "Formato dos dados de treino: (720, 64, 64, 3)\n",
      "Formato dos rótulos de treino: (720,)\n",
      "Formato dos dados de teste: (180, 64, 64, 3)\n",
      "Formato dos rótulos de teste: (180,)\n"
     ]
    }
   ],
   "source": [
    "# Verificando as formas (shapes) dos conjuntos de dados\n",
    "print(\"Formato dos dados de treino:\", X_train.shape)\n",
    "print(\"Formato dos rótulos de treino:\", y_train.shape)\n",
    "print(\"Formato dos dados de teste:\", X_test.shape)\n",
    "print(\"Formato dos rótulos de teste:\", y_test.shape)"
   ]
  },
  {
   "cell_type": "code",
   "execution_count": 9,
   "metadata": {},
   "outputs": [
    {
     "name": "stdout",
     "output_type": "stream",
     "text": [
      "WARNING:tensorflow:From c:\\Users\\Gabriel\\Desktop\\FACUL 6ª SEM\\APS-PI-6SEM\\venv\\lib\\site-packages\\keras\\src\\backend.py:873: The name tf.get_default_graph is deprecated. Please use tf.compat.v1.get_default_graph instead.\n",
      "\n",
      "WARNING:tensorflow:From c:\\Users\\Gabriel\\Desktop\\FACUL 6ª SEM\\APS-PI-6SEM\\venv\\lib\\site-packages\\keras\\src\\layers\\pooling\\max_pooling2d.py:161: The name tf.nn.max_pool is deprecated. Please use tf.nn.max_pool2d instead.\n",
      "\n"
     ]
    }
   ],
   "source": [
    "from tensorflow.keras.models import Sequential\n",
    "from tensorflow.keras.layers import Conv2D, MaxPooling2D, Flatten, Dense\n",
    "\n",
    "# Definindo a arquitetura da CNN\n",
    "model = Sequential()\n",
    "model.add(Conv2D(32, (3, 3), activation='relu', input_shape=(64, 64, 3)))\n",
    "model.add(MaxPooling2D((2, 2)))\n",
    "model.add(Conv2D(64, (3, 3), activation='relu'))\n",
    "model.add(MaxPooling2D((2, 2)))\n",
    "model.add(Flatten())\n",
    "model.add(Dense(128, activation='relu'))\n",
    "model.add(Dense(1, activation='sigmoid'))  # Saída binária (i ou não-i)"
   ]
  },
  {
   "cell_type": "code",
   "execution_count": 10,
   "metadata": {},
   "outputs": [
    {
     "name": "stdout",
     "output_type": "stream",
     "text": [
      "WARNING:tensorflow:From c:\\Users\\Gabriel\\Desktop\\FACUL 6ª SEM\\APS-PI-6SEM\\venv\\lib\\site-packages\\keras\\src\\optimizers\\__init__.py:309: The name tf.train.Optimizer is deprecated. Please use tf.compat.v1.train.Optimizer instead.\n",
      "\n"
     ]
    }
   ],
   "source": [
    "# Compilação do modelo\n",
    "model.compile(optimizer='adam', loss='binary_crossentropy', metrics=['accuracy'])\n"
   ]
  },
  {
   "cell_type": "code",
   "execution_count": 11,
   "metadata": {},
   "outputs": [
    {
     "name": "stdout",
     "output_type": "stream",
     "text": [
      "Epoch 1/10\n",
      "WARNING:tensorflow:From c:\\Users\\Gabriel\\Desktop\\FACUL 6ª SEM\\APS-PI-6SEM\\venv\\lib\\site-packages\\keras\\src\\utils\\tf_utils.py:492: The name tf.ragged.RaggedTensorValue is deprecated. Please use tf.compat.v1.ragged.RaggedTensorValue instead.\n",
      "\n",
      "WARNING:tensorflow:From c:\\Users\\Gabriel\\Desktop\\FACUL 6ª SEM\\APS-PI-6SEM\\venv\\lib\\site-packages\\keras\\src\\engine\\base_layer_utils.py:384: The name tf.executing_eagerly_outside_functions is deprecated. Please use tf.compat.v1.executing_eagerly_outside_functions instead.\n",
      "\n",
      "23/23 [==============================] - 3s 69ms/step - loss: 0.5551 - accuracy: 0.8069 - val_loss: 0.2910 - val_accuracy: 0.7778\n",
      "Epoch 2/10\n",
      "23/23 [==============================] - 1s 57ms/step - loss: 0.1328 - accuracy: 0.9542 - val_loss: 0.1810 - val_accuracy: 0.9722\n",
      "Epoch 3/10\n",
      "23/23 [==============================] - 1s 56ms/step - loss: 0.0280 - accuracy: 0.9944 - val_loss: 0.1477 - val_accuracy: 0.9722\n",
      "Epoch 4/10\n",
      "23/23 [==============================] - 1s 54ms/step - loss: 0.0148 - accuracy: 0.9944 - val_loss: 0.1505 - val_accuracy: 0.9722\n",
      "Epoch 5/10\n",
      "23/23 [==============================] - 1s 54ms/step - loss: 0.0072 - accuracy: 0.9986 - val_loss: 0.1056 - val_accuracy: 0.9833\n",
      "Epoch 6/10\n",
      "23/23 [==============================] - 1s 55ms/step - loss: 0.0052 - accuracy: 0.9986 - val_loss: 0.0972 - val_accuracy: 0.9833\n",
      "Epoch 7/10\n",
      "23/23 [==============================] - 1s 57ms/step - loss: 0.0046 - accuracy: 0.9986 - val_loss: 0.2033 - val_accuracy: 0.9667\n",
      "Epoch 8/10\n",
      "23/23 [==============================] - 1s 53ms/step - loss: 0.0019 - accuracy: 1.0000 - val_loss: 0.1983 - val_accuracy: 0.9722\n",
      "Epoch 9/10\n",
      "23/23 [==============================] - 1s 55ms/step - loss: 0.0028 - accuracy: 1.0000 - val_loss: 0.1353 - val_accuracy: 0.9778\n",
      "Epoch 10/10\n",
      "23/23 [==============================] - 1s 55ms/step - loss: 0.0011 - accuracy: 1.0000 - val_loss: 0.1810 - val_accuracy: 0.9778\n"
     ]
    }
   ],
   "source": [
    "# Treinamento do modelo\n",
    "history = model.fit(X_train, y_train, epochs=10, validation_data=(X_test, y_test))"
   ]
  },
  {
   "cell_type": "code",
   "execution_count": 13,
   "metadata": {},
   "outputs": [
    {
     "data": {
      "image/png": "[encoded data removed]",
      "text/plain": [
       "<Figure size 800x500 with 1 Axes>"
      ]
     },
     "metadata": {},
     "output_type": "display_data"
    }
   ],
   "source": [
    "from matplotlib import pyplot as plt\n",
    "import pandas as pd\n",
    "\n",
    "pd.DataFrame(history.history).plot(figsize=(8, 5))\n",
    "plt.grid(True)\n",
    "plt.gca().set_ylim(0, 1) # set the vertical range to [0-1]\n",
    "plt.show()"
   ]
  },
  {
   "cell_type": "code",
   "execution_count": 14,
   "metadata": {},
   "outputs": [
    {
     "name": "stdout",
     "output_type": "stream",
     "text": [
      "6/6 [==============================] - 0s 19ms/step - loss: 0.1810 - accuracy: 0.9778\n",
      "Acurácia: 0.9777777791023254\n"
     ]
    }
   ],
   "source": [
    "# Avaliação do modelo\n",
    "evaluation = model.evaluate(X_test, y_test)\n",
    "print(f\"Acurácia: {evaluation[1]}\")"
   ]
  },
  {
   "cell_type": "code",
   "execution_count": 15,
   "metadata": {},
   "outputs": [],
   "source": [
    "def preprocess_image(image_path):\n",
    "    # Carrega a imagem e redimensiona para o mesmo tamanho usado no treinamento\n",
    "    image = cv2.imread(image_path)\n",
    "    image = cv2.resize(image, (64, 64))\n",
    "    # Normaliza os valores dos pixels para o intervalo [0, 1]\n",
    "    #image = image.astype('float32') / 255.0\n",
    "    # Adapta o formato da imagem para ser compatível com o modelo (número de dimensões)\n",
    "    image = np.expand_dims(image, axis=0)\n",
    "    print(image.shape)\n",
    "    return image"
   ]
  },
  {
   "cell_type": "code",
   "execution_count": 16,
   "metadata": {},
   "outputs": [],
   "source": [
    "def predict_image(model, image_path):\n",
    "    # Pré-processa a imagem\n",
    "    image = preprocess_image(image_path)\n",
    "    # Faz a previsão usando o modelo fornecido\n",
    "    prediction = model.predict(image)\n",
    "    # Converte a previsão em texto\n",
    "    if prediction[0][0] > 0.5:\n",
    "        print(prediction.\n",
    "              )\n",
    "        print(\"A imagem é a letra 'i' (maiúscula ou minúscula)\")\n",
    "    else:\n",
    "        print(\"A imagem não é a letra 'i'\")"
   ]
  },
  {
   "cell_type": "code",
   "execution_count": 17,
   "metadata": {},
   "outputs": [
    {
     "name": "stdout",
     "output_type": "stream",
     "text": [
      "(1, 64, 64, 3)\n",
      "1/1 [==============================] - 0s 187ms/step\n",
      "A imagem não é a letra 'i'\n",
      "None\n"
     ]
    }
   ],
   "source": [
    "result = predict_image(model, '../img/teste_false_9.jpeg')\n",
    "print(result)"
   ]
  }
 ],
 "metadata": {
  "kernelspec": {
   "display_name": "venv",
   "language": "python",
   "name": "python3"
  },
  "language_info": {
   "codemirror_mode": {
    "name": "ipython",
    "version": 3
   },
   "file_extension": ".py",
   "mimetype": "text/x-python",
   "name": "python",
   "nbconvert_exporter": "python",
   "pygments_lexer": "ipython3",
   "version": "3.9.5"
  }
 },
 "nbformat": 4,
 "nbformat_minor": 2
}
