{
 "cells": [
  {
   "cell_type": "code",
   "execution_count": 124,
   "metadata": {},
   "outputs": [],
   "source": [
    "import os\n",
    "import numpy as np\n",
    "from tensorflow.keras.preprocessing.image import ImageDataGenerator\n",
    "from tensorflow.keras.models import Sequential\n",
    "from tensorflow.keras.layers import Conv2D, MaxPooling2D, Flatten, Dense\n",
    "import os\n",
    "import cv2\n",
    "import numpy as np\n",
    "from sklearn.model_selection import train_test_split\n",
    "\n",
    "# Diretório onde estão as imagens de todas as vogais\n",
    "dataset_path = Path(os.path.join('C:',os.sep, 'Users', 'Gabriel', 'Desktop', 'FACUL 6ª SEM', 'APS-PI-6SEM', 'dataset', 'v20220930_partial'))"
   ]
  },
  {
   "cell_type": "code",
   "execution_count": 125,
   "metadata": {},
   "outputs": [],
   "source": [
    "# Lista para armazenar as imagens e seus rótulos correspondentes ('i' ou outras vogais)\n",
    "images = []\n",
    "labels = []"
   ]
  },
  {
   "cell_type": "code",
   "execution_count": 126,
   "metadata": {},
   "outputs": [],
   "source": [
    "# Lista de letras que serão consideradas ('i' para 'I' e 'i', e outras vogais)\n",
    "target_letters = ['a_l', 'A_u', 'e_l', 'E_u', 'i_l', 'I_u', 'o_l', 'O_u', 'u_l', 'U_u']"
   ]
  },
  {
   "cell_type": "code",
   "execution_count": 127,
   "metadata": {},
   "outputs": [],
   "source": [
    "# Percorrer o diretório de cada letra e carregar as imagens\n",
    "for letter in target_letters:\n",
    "    letter_path = os.path.join(dataset_path, letter)\n",
    "    for image_file in os.listdir(letter_path):\n",
    "        image_path = os.path.join(letter_path, image_file)\n",
    "        for imagem in os.listdir(image_path):\n",
    "            imagem_final = os.path.join(image_path, imagem)\n",
    "            image = imread(imagem_final)\n",
    "            image = cv2.resize(image, (64, 64))  # Redimensionar para um tamanho específico\n",
    "            images.append(image)\n",
    "            labels.append(1 if (letter.startswith('i') or letter.startswith('I'))  else 0)  # Rotular 'i' como 1 e outras vogais como 0"
   ]
  },
  {
   "cell_type": "code",
   "execution_count": 146,
   "metadata": {},
   "outputs": [
    {
     "name": "stdout",
     "output_type": "stream",
     "text": [
      "(64, 64, 3)\n"
     ]
    }
   ],
   "source": [
    "#print(images)\n",
    "#print(labels)\n",
    "# Convertendo listas em arrays numpy\n",
    "images = np.array(images)\n",
    "labels = np.array(labels)"
   ]
  },
  {
   "cell_type": "code",
   "execution_count": 129,
   "metadata": {},
   "outputs": [],
   "source": [
    "# Dividir os dados em conjunto de treino e teste (80% treino, 20% teste)\n",
    "X_train, X_test, y_train, y_test = train_test_split(images, labels, test_size=0.2, random_state=42)\n"
   ]
  },
  {
   "cell_type": "code",
   "execution_count": 113,
   "metadata": {},
   "outputs": [],
   "source": [
    "#Normalização dos valores de pixel para o intervalo [0, 1]\n",
    "#X_train = X_train.astype('float32') / 255.0\n",
    "#X_test = X_test.astype('float32') / 255.0\n"
   ]
  },
  {
   "cell_type": "code",
   "execution_count": 130,
   "metadata": {},
   "outputs": [
    {
     "name": "stdout",
     "output_type": "stream",
     "text": [
      "Formato dos dados de treino: (720, 64, 64, 3)\n",
      "Formato dos rótulos de treino: (720,)\n",
      "Formato dos dados de teste: (180, 64, 64, 3)\n",
      "Formato dos rótulos de teste: (180,)\n"
     ]
    }
   ],
   "source": [
    "# Verificando as formas (shapes) dos conjuntos de dados\n",
    "print(\"Formato dos dados de treino:\", X_train.shape)\n",
    "print(\"Formato dos rótulos de treino:\", y_train.shape)\n",
    "print(\"Formato dos dados de teste:\", X_test.shape)\n",
    "print(\"Formato dos rótulos de teste:\", y_test.shape)"
   ]
  },
  {
   "cell_type": "code",
   "execution_count": 131,
   "metadata": {},
   "outputs": [],
   "source": [
    "from tensorflow.keras.models import Sequential\n",
    "from tensorflow.keras.layers import Conv2D, MaxPooling2D, Flatten, Dense\n",
    "\n",
    "# Definindo a arquitetura da CNN\n",
    "model = Sequential()\n",
    "model.add(Conv2D(32, (3, 3), activation='relu', input_shape=(64, 64, 3)))\n",
    "model.add(MaxPooling2D((2, 2)))\n",
    "model.add(Conv2D(64, (3, 3), activation='relu'))\n",
    "model.add(MaxPooling2D((2, 2)))\n",
    "model.add(Flatten())\n",
    "model.add(Dense(128, activation='relu'))\n",
    "model.add(Dense(1, activation='sigmoid'))  # Saída binária (i ou não-i)"
   ]
  },
  {
   "cell_type": "code",
   "execution_count": 132,
   "metadata": {},
   "outputs": [],
   "source": [
    "# Compilação do modelo\n",
    "model.compile(optimizer='adam', loss='binary_crossentropy', metrics=['accuracy'])\n"
   ]
  },
  {
   "cell_type": "code",
   "execution_count": 133,
   "metadata": {},
   "outputs": [
    {
     "name": "stdout",
     "output_type": "stream",
     "text": [
      "Epoch 1/10\n",
      "23/23 [==============================] - 4s 74ms/step - loss: 0.3724 - accuracy: 0.8125 - val_loss: 0.1652 - val_accuracy: 0.9667\n",
      "Epoch 2/10\n",
      "23/23 [==============================] - 1s 54ms/step - loss: 0.0782 - accuracy: 0.9708 - val_loss: 0.0860 - val_accuracy: 0.9778\n",
      "Epoch 3/10\n",
      "23/23 [==============================] - 1s 56ms/step - loss: 0.0434 - accuracy: 0.9861 - val_loss: 0.1308 - val_accuracy: 0.9722\n",
      "Epoch 4/10\n",
      "23/23 [==============================] - 1s 55ms/step - loss: 0.0451 - accuracy: 0.9847 - val_loss: 0.1082 - val_accuracy: 0.9778\n",
      "Epoch 5/10\n",
      "23/23 [==============================] - 1s 54ms/step - loss: 0.0113 - accuracy: 0.9986 - val_loss: 0.1064 - val_accuracy: 0.9778\n",
      "Epoch 6/10\n",
      "23/23 [==============================] - 1s 55ms/step - loss: 0.0114 - accuracy: 0.9944 - val_loss: 0.1268 - val_accuracy: 0.9778\n",
      "Epoch 7/10\n",
      "23/23 [==============================] - 1s 54ms/step - loss: 0.0059 - accuracy: 0.9986 - val_loss: 0.1231 - val_accuracy: 0.9778\n",
      "Epoch 8/10\n",
      "23/23 [==============================] - 1s 56ms/step - loss: 0.0126 - accuracy: 0.9958 - val_loss: 0.1075 - val_accuracy: 0.9833\n",
      "Epoch 9/10\n",
      "23/23 [==============================] - 1s 59ms/step - loss: 0.0046 - accuracy: 0.9986 - val_loss: 0.1265 - val_accuracy: 0.9778\n",
      "Epoch 10/10\n",
      "23/23 [==============================] - 1s 55ms/step - loss: 0.0035 - accuracy: 0.9986 - val_loss: 0.1464 - val_accuracy: 0.9722\n"
     ]
    }
   ],
   "source": [
    "# Treinamento do modelo\n",
    "history = model.fit(X_train, y_train, epochs=10, validation_data=(X_test, y_test))"
   ]
  },
  {
   "cell_type": "code",
   "execution_count": 134,
   "metadata": {},
   "outputs": [
    {
     "data": {
      "image/png": "[encoded data removed]",
      "text/plain": [
       "<Figure size 800x500 with 1 Axes>"
      ]
     },
     "metadata": {},
     "output_type": "display_data"
    }
   ],
   "source": [
    "import pandas as pd\n",
    "\n",
    "pd.DataFrame(history.history).plot(figsize=(8, 5))\n",
    "plt.grid(True)\n",
    "plt.gca().set_ylim(0, 1) # set the vertical range to [0-1]\n",
    "plt.show()"
   ]
  },
  {
   "cell_type": "code",
   "execution_count": 135,
   "metadata": {},
   "outputs": [
    {
     "name": "stdout",
     "output_type": "stream",
     "text": [
      "6/6 [==============================] - 0s 15ms/step - loss: 0.1464 - accuracy: 0.9722\n",
      "Acurácia: 0.9722222089767456\n"
     ]
    }
   ],
   "source": [
    "# Avaliação do modelo\n",
    "evaluation = model.evaluate(X_test, y_test)\n",
    "print(f\"Acurácia: {evaluation[1]}\")"
   ]
  },
  {
   "cell_type": "code",
   "execution_count": 144,
   "metadata": {},
   "outputs": [],
   "source": [
    "def preprocess_image(image_path):\n",
    "    # Carrega a imagem e redimensiona para o mesmo tamanho usado no treinamento\n",
    "    image = cv2.imread(image_path)\n",
    "    image = cv2.resize(image, (64, 64))\n",
    "    # Normaliza os valores dos pixels para o intervalo [0, 1]\n",
    "    #image = image.astype('float32') / 255.0\n",
    "    # Adapta o formato da imagem para ser compatível com o modelo (número de dimensões)\n",
    "    image = np.expand_dims(image, axis=0)\n",
    "    print(image.shape)\n",
    "    return image"
   ]
  },
  {
   "cell_type": "code",
   "execution_count": 137,
   "metadata": {},
   "outputs": [],
   "source": [
    "def predict_image(model, image_path):\n",
    "    # Pré-processa a imagem\n",
    "    image = preprocess_image(image_path)\n",
    "    # Faz a previsão usando o modelo fornecido\n",
    "    prediction = model.predict(image)\n",
    "    # Converte a previsão em texto\n",
    "    if prediction[0][0] > 0.5:\n",
    "        return \"A imagem é a letra 'i' (maiúscula ou minúscula)\"\n",
    "    else:\n",
    "        return \"A imagem não é a letra 'i'\""
   ]
  },
  {
   "cell_type": "code",
   "execution_count": 148,
   "metadata": {},
   "outputs": [
    {
     "name": "stdout",
     "output_type": "stream",
     "text": [
      "(1, 64, 64, 3)\n",
      "1/1 [==============================] - 0s 45ms/step\n",
      "A imagem não é a letra 'i'\n"
     ]
    }
   ],
   "source": [
    "result = predict_image(model, '../img/teste_false_9.jpeg')\n",
    "print(result)"
   ]
  }
 ],
 "metadata": {
  "kernelspec": {
   "display_name": "venv",
   "language": "python",
   "name": "python3"
  },
  "language_info": {
   "codemirror_mode": {
    "name": "ipython",
    "version": 3
   },
   "file_extension": ".py",
   "mimetype": "text/x-python",
   "name": "python",
   "nbconvert_exporter": "python",
   "pygments_lexer": "ipython3",
   "version": "3.9.5"
  }
 },
 "nbformat": 4,
 "nbformat_minor": 2
}
